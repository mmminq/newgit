{
  "nbformat": 4,
  "nbformat_minor": 0,
  "metadata": {
    "colab": {
      "provenance": [],
      "authorship_tag": "ABX9TyMKc1PZ9K0pLTA7MbNOJeY1",
      "include_colab_link": true
    },
    "kernelspec": {
      "name": "python3",
      "display_name": "Python 3"
    },
    "language_info": {
      "name": "python"
    }
  },
  "cells": [
    {
      "cell_type": "markdown",
      "metadata": {
        "id": "view-in-github",
        "colab_type": "text"
      },
      "source": [
        "<a href=\"https://colab.research.google.com/github/mmminq/newgit/blob/main/%EB%B0%B1%EC%A4%80_%EC%BB%A4%EB%A6%AC%ED%81%98%EB%9F%BC_DP.ipynb\" target=\"_parent\"><img src=\"https://colab.research.google.com/assets/colab-badge.svg\" alt=\"Open In Colab\"/></a>"
      ]
    },
    {
      "cell_type": "code",
      "execution_count": null,
      "metadata": {
        "id": "FlCp5U7a2ioI",
        "colab": {
          "base_uri": "https://localhost:8080/"
        },
        "outputId": "bbcbd3ab-7be6-46ca-a3d5-fb63aaf6ccf8"
      },
      "outputs": [
        {
          "output_type": "stream",
          "name": "stdout",
          "text": [
            "2\n",
            "1\n"
          ]
        }
      ],
      "source": [
        "#1463\n",
        "\n",
        "n = int(input())\n",
        "cnt = 0\n",
        "\n",
        "while True:\n",
        "  if n == 1:\n",
        "    print(cnt)\n",
        "    break\n",
        "  if n % 3 == 0:\n",
        "    n //= 3\n",
        "    cnt+=1\n",
        "    continue\n",
        "  elif n % 2 == 0:\n",
        "    n //= 2\n",
        "    cnt+=1\n",
        "    continue\n",
        "  else:\n",
        "    n -= 1\n",
        "    cnt+=1\n",
        "    continue\n"
      ]
    }
  ]
}