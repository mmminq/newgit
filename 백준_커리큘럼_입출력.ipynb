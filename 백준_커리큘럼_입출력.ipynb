{
  "nbformat": 4,
  "nbformat_minor": 0,
  "metadata": {
    "colab": {
      "provenance": [],
      "include_colab_link": true
    },
    "kernelspec": {
      "name": "python3",
      "display_name": "Python 3"
    },
    "language_info": {
      "name": "python"
    }
  },
  "cells": [
    {
      "cell_type": "markdown",
      "metadata": {
        "id": "view-in-github",
        "colab_type": "text"
      },
      "source": [
        "<a href=\"https://colab.research.google.com/github/mmminq/newgit/blob/main/%EB%B0%B1%EC%A4%80_%EC%BB%A4%EB%A6%AC%ED%81%98%EB%9F%BC_%EC%9E%85%EC%B6%9C%EB%A0%A5.ipynb\" target=\"_parent\"><img src=\"https://colab.research.google.com/assets/colab-badge.svg\" alt=\"Open In Colab\"/></a>"
      ]
    },
    {
      "cell_type": "code",
      "execution_count": null,
      "metadata": {
        "id": "AnUGf_ZYnaHZ"
      },
      "outputs": [],
      "source": [
        "#1000\n",
        "\n",
        "a, b = map(int, input().split())\n",
        "\n",
        "print(a+b)"
      ]
    },
    {
      "cell_type": "code",
      "source": [
        "#1924 2007년\n",
        "\"\"\"\n",
        "해당 날짜까지 일수를 모두 더한다음 %의 나머지로 요일을 구함\n",
        "\"\"\"\n",
        "month = [31, 28, 31, 30, 31, 30, 31, 31, 30, 31, 30, 31]\n",
        "yoil = ['SUN', 'MON', 'TUE', 'WED', 'THU', 'FRI', 'SAT']\n",
        "day = 0\n",
        "\n",
        "m, d = map(int, input().split())\n",
        "for i in range(m-1):\n",
        "  day+=month[i]\n",
        "day+=d\n",
        "\n",
        "print(yoil[day%7])"
      ],
      "metadata": {
        "colab": {
          "base_uri": "https://localhost:8080/"
        },
        "id": "VTJXIixinkpz",
        "outputId": "2bcee0e5-278f-4cb9-ad2d-f34456bddb23"
      },
      "execution_count": null,
      "outputs": [
        {
          "output_type": "stream",
          "name": "stdout",
          "text": [
            "1 7\n",
            "SUN\n"
          ]
        }
      ]
    },
    {
      "cell_type": "code",
      "source": [
        "#2438 별 찍기 - 1\n",
        "\n",
        "n = int(input())\n",
        "\n",
        "for i in range(n):\n",
        "  print('*'*(i+1))"
      ],
      "metadata": {
        "colab": {
          "base_uri": "https://localhost:8080/"
        },
        "id": "Da1T7e0fpWKc",
        "outputId": "435856fe-8e2e-462b-f7da-7314df217f78"
      },
      "execution_count": null,
      "outputs": [
        {
          "output_type": "stream",
          "name": "stdout",
          "text": [
            "5\n",
            "*\n",
            "**\n",
            "***\n",
            "****\n",
            "*****\n"
          ]
        }
      ]
    },
    {
      "cell_type": "code",
      "source": [
        "#2439 별 찍기 - 2\n",
        "\n",
        "n = int(input())\n",
        "\n",
        "for i in range(n):\n",
        "  print(('*'*(i+1)).rjust(n))"
      ],
      "metadata": {
        "colab": {
          "base_uri": "https://localhost:8080/"
        },
        "id": "KpXGWy0cp4Ir",
        "outputId": "fd107c9d-e59c-4d86-97f0-bcdab8c53daa"
      },
      "execution_count": null,
      "outputs": [
        {
          "output_type": "stream",
          "name": "stdout",
          "text": [
            "5\n",
            "    *\n",
            "   **\n",
            "  ***\n",
            " ****\n",
            "*****\n"
          ]
        }
      ]
    },
    {
      "cell_type": "markdown",
      "source": [
        "출력 시 왼쪽 정렬, 오른쪽 정렬\n",
        "\n",
        "print(a.ljust(n)) -> a라는 숫자(또는 문자열)을 왼쪽 정렬, 최대 자릿수 n자리\n",
        "\n",
        "print(a.rjust(n)) -> a라는 숫자(또는 문자열)을 오른쪽 정렬, 최대 자릿수 n자리\n",
        "\n",
        "print(a.center(n)) -> 중앙 정렬"
      ],
      "metadata": {
        "id": "XG0o0crZqFqR"
      }
    },
    {
      "cell_type": "code",
      "source": [
        "#2440 별 찍기 - 3\n",
        "\n",
        "n = int(input())\n",
        "\n",
        "for i in range(n, 0, -1):\n",
        "  print('*'*i)"
      ],
      "metadata": {
        "colab": {
          "base_uri": "https://localhost:8080/"
        },
        "id": "JvWTMebAqzDo",
        "outputId": "aea5a99d-4e6e-40a9-9c71-f8a0f0eaf1a3"
      },
      "execution_count": null,
      "outputs": [
        {
          "output_type": "stream",
          "name": "stdout",
          "text": [
            "5\n",
            "*****\n",
            "****\n",
            "***\n",
            "**\n",
            "*\n"
          ]
        }
      ]
    },
    {
      "cell_type": "code",
      "source": [
        "#2441 별 찍기 - 4\n",
        "\n",
        "n = int(input())\n",
        "\n",
        "for i in range(n, 0, -1):\n",
        "  print(('*'*i).rjust(n))"
      ],
      "metadata": {
        "id": "IltfN3HYrDmA"
      },
      "execution_count": null,
      "outputs": []
    },
    {
      "cell_type": "code",
      "source": [
        "#2442\n",
        "\n",
        "n = int(input())\n",
        "\n",
        "for i in range(1, n+1):\n",
        "  print(\" \"*(n-i) + \"*\" * (2*i-1))"
      ],
      "metadata": {
        "colab": {
          "base_uri": "https://localhost:8080/"
        },
        "id": "UEr44SnErY0e",
        "outputId": "43292e1a-3a14-4df6-b4a5-cd7c3e124fe8"
      },
      "execution_count": null,
      "outputs": [
        {
          "output_type": "stream",
          "name": "stdout",
          "text": [
            "5\n",
            "    *\n",
            "   ***\n",
            "  *****\n",
            " *******\n",
            "*********\n"
          ]
        }
      ]
    },
    {
      "cell_type": "code",
      "source": [
        "#2445 별 찍기 - 8\n",
        "\n",
        "n = int(input())\n",
        "\n",
        "for i in range(1, n+1):\n",
        "  print(('*'*i).ljust(n), end = '')\n",
        "  print(('*'*i).rjust(n))\n",
        "for i in range(n-1, 0, -1):\n",
        "  print(('*'*i).ljust(n), end = '')\n",
        "  print(('*'*i).rjust(n))"
      ],
      "metadata": {
        "colab": {
          "base_uri": "https://localhost:8080/"
        },
        "id": "ijIr6QogtC1K",
        "outputId": "f6ecc542-4bc3-46e4-a047-aa1f6533cda9"
      },
      "execution_count": null,
      "outputs": [
        {
          "output_type": "stream",
          "name": "stdout",
          "text": [
            "5\n",
            "*        *\n",
            "**      **\n",
            "***    ***\n",
            "****  ****\n",
            "**********\n",
            "****  ****\n",
            "***    ***\n",
            "**      **\n",
            "*        *\n"
          ]
        }
      ]
    },
    {
      "cell_type": "code",
      "source": [
        "#2446 별 찍기 - 9\n",
        "\n",
        "n = int(input())\n",
        "\n",
        "for i in range(n, 0, -1):\n",
        "  print(\" \"*(n-i) + \"*\" * (2*i-1))\n",
        "for i in range(2, n+1):\n",
        "  print(\" \"*(n-i) + \"*\" * (2*i-1))"
      ],
      "metadata": {
        "colab": {
          "base_uri": "https://localhost:8080/"
        },
        "id": "GXyAvkTLtyMP",
        "outputId": "7cc4dca2-a760-45d1-abca-36cfac353526"
      },
      "execution_count": null,
      "outputs": [
        {
          "output_type": "stream",
          "name": "stdout",
          "text": [
            "5\n",
            "*********\n",
            " *******\n",
            "  *****\n",
            "   ***\n",
            "    *\n",
            "   ***\n",
            "  *****\n",
            " *******\n",
            "*********\n"
          ]
        }
      ]
    },
    {
      "cell_type": "code",
      "source": [
        "#2522 별 찍기 - 12\n",
        "\n",
        "n = int(input())\n",
        "\n",
        "for i in range(1, n+1):\n",
        "  print(('*'*i).rjust(n))\n",
        "for i in range(n-1, 0, -1):\n",
        "  print(('*'*i).rjust(n))"
      ],
      "metadata": {
        "colab": {
          "base_uri": "https://localhost:8080/"
        },
        "id": "-AASdUdDvB7_",
        "outputId": "8f9f8953-a445-400f-c842-275206f81deb"
      },
      "execution_count": null,
      "outputs": [
        {
          "output_type": "stream",
          "name": "stdout",
          "text": [
            "5\n",
            "    *\n",
            "   **\n",
            "  ***\n",
            " ****\n",
            "*****\n",
            " ****\n",
            "  ***\n",
            "   **\n",
            "    *\n"
          ]
        }
      ]
    },
    {
      "cell_type": "code",
      "source": [
        "#10951 A+B - 4, 블로그 참고\n",
        "\n",
        "while True:\n",
        "  try:\n",
        "    a, b = map(int, input().split())\n",
        "    print(a+b)\n",
        "  except:\n",
        "    break"
      ],
      "metadata": {
        "colab": {
          "base_uri": "https://localhost:8080/"
        },
        "id": "tvuHXIjvvlUX",
        "outputId": "b99d2e66-b78a-4604-f66b-6acf82b15f6d"
      },
      "execution_count": null,
      "outputs": [
        {
          "name": "stdout",
          "output_type": "stream",
          "text": [
            "1 1\n",
            "2\n",
            "3 3\n",
            "6\n",
            "\n"
          ]
        }
      ]
    },
    {
      "cell_type": "markdown",
      "source": [
        "종료 조건이 정해지지 않았을 때, 입력이 안될 경우 종료시킴\n",
        "\n",
        "->try, except문 [EOFError]를 방지하기 위해 추가\n",
        "\n",
        "기타 에러가 발생할 경우 except문을 통해 프로그램을 강제 종료시킴"
      ],
      "metadata": {
        "id": "Bs3fh3ZXzd58"
      }
    },
    {
      "cell_type": "code",
      "source": [
        "#10991 별 찍기 - 16\n",
        "\n",
        "n = int(input())\n",
        "\n",
        "for i in range(1, n+1):\n",
        "  print(' '*(n-i), end='')#좌측 공백\n",
        "  print('* '*(i-1)+'*')#i-1개만 공백 포함해서 출력하고 마지막 별은 우측 공백 없이 출력"
      ],
      "metadata": {
        "colab": {
          "base_uri": "https://localhost:8080/"
        },
        "id": "_ef5uu870xTK",
        "outputId": "3c668e99-a58b-41fc-dfe1-8062ab8c52d2"
      },
      "execution_count": null,
      "outputs": [
        {
          "output_type": "stream",
          "name": "stdout",
          "text": [
            "5\n",
            "    *\n",
            "   * *\n",
            "  * * *\n",
            " * * * *\n",
            "* * * * *\n"
          ]
        }
      ]
    },
    {
      "cell_type": "code",
      "source": [
        "#10992\n",
        "\n",
        "n = int(input())\n",
        "for i in range(1, n):\n",
        "  print(' '*(n-i), end='')\n",
        "  if i == 1: print('*')\n",
        "  else: print('*'+' '*(2*(i-1)-1)+'*')\n",
        "print('*'*(2*n-1))"
      ],
      "metadata": {
        "colab": {
          "base_uri": "https://localhost:8080/"
        },
        "id": "5P-sDqPTgJeW",
        "outputId": "45201408-e1a9-4a72-aa40-d7d90adf86c0"
      },
      "execution_count": null,
      "outputs": [
        {
          "output_type": "stream",
          "name": "stdout",
          "text": [
            "5\n",
            "    *\n",
            "   * *\n",
            "  *   *\n",
            " *     *\n",
            "*********\n"
          ]
        }
      ]
    },
    {
      "cell_type": "code",
      "source": [
        "#11021 A+B - 7\n",
        "\n",
        "n = int(input())\n",
        "\n",
        "for i in range(1, n+1):\n",
        "  a, b = map(int, input().split())\n",
        "  print('Case #{}:'.format(i), a+b)"
      ],
      "metadata": {
        "colab": {
          "base_uri": "https://localhost:8080/"
        },
        "id": "sPRHXNSOXgWH",
        "outputId": "61f7832f-5cf3-409e-ee76-15e1243c92db"
      },
      "execution_count": null,
      "outputs": [
        {
          "output_type": "stream",
          "name": "stdout",
          "text": [
            "1\n",
            "1 2\n",
            "Case #1: 3\n"
          ]
        }
      ]
    },
    {
      "cell_type": "code",
      "source": [
        "#11022 A+B - 8\n",
        "\n",
        "n = int(input())\n",
        "\n",
        "for i in range(1, n+1):\n",
        "  a, b = map(int, input().split())\n",
        "  print('Case #{}: {} + {} = {}'.format(i, a, b, a+b))"
      ],
      "metadata": {
        "colab": {
          "base_uri": "https://localhost:8080/"
        },
        "id": "BId_U5CSZdZW",
        "outputId": "125e2d7e-af28-431a-81c7-8725a248cc35"
      },
      "execution_count": null,
      "outputs": [
        {
          "output_type": "stream",
          "name": "stdout",
          "text": [
            "1\n",
            "1 2\n",
            "Case #1: 1 + 2 = 3\n"
          ]
        }
      ]
    },
    {
      "cell_type": "code",
      "source": [
        "#11718\n",
        "\n",
        "import sys\n",
        "\n",
        "while True:\n",
        "  try:\n",
        "    s = input()\n",
        "    print(s)\n",
        "  except:\n",
        "    break"
      ],
      "metadata": {
        "id": "nrRHM0MMZ2i0"
      },
      "execution_count": null,
      "outputs": []
    },
    {
      "cell_type": "code",
      "source": [
        "#11720\n",
        "n = input()\n",
        "s = list(map(int, input()))\n",
        "sum = 0\n",
        "for i in s:\n",
        "  sum+=i\n",
        "print(sum)"
      ],
      "metadata": {
        "colab": {
          "base_uri": "https://localhost:8080/"
        },
        "id": "5RuMuw9WaeZ7",
        "outputId": "db832054-522d-4900-9f70-7bdd652f4bd9"
      },
      "execution_count": null,
      "outputs": [
        {
          "output_type": "stream",
          "name": "stdout",
          "text": [
            "12345\n",
            "[1, 2, 3, 4, 5]\n"
          ]
        }
      ]
    },
    {
      "cell_type": "code",
      "source": [
        "#11721\n",
        "\n",
        "w = input()\n",
        "for i in range(len(w)):\n",
        "  print(w[i], end='')\n",
        "  if i%10 == 9: print()"
      ],
      "metadata": {
        "colab": {
          "base_uri": "https://localhost:8080/"
        },
        "id": "zoNp_UCEbWk3",
        "outputId": "03ef7901-affe-45f5-c66a-e166b085e8e3"
      },
      "execution_count": null,
      "outputs": [
        {
          "output_type": "stream",
          "name": "stdout",
          "text": [
            "backjoononlinejuddge\n",
            "backjoonon\n",
            "linejuddge\n"
          ]
        }
      ]
    }
  ]
}